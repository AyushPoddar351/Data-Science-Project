{
 "cells": [
  {
   "cell_type": "code",
   "execution_count": 1,
   "id": "c3b02c5b",
   "metadata": {},
   "outputs": [
    {
     "data": {
      "text/plain": [
       "'e:\\\\data\\\\courses\\\\krish naik\\\\MLOPS\\\\DS prj\\\\research'"
      ]
     },
     "execution_count": 1,
     "metadata": {},
     "output_type": "execute_result"
    }
   ],
   "source": [
    "%pwd"
   ]
  },
  {
   "cell_type": "code",
   "execution_count": 4,
   "id": "2cedd812",
   "metadata": {},
   "outputs": [
    {
     "name": "stderr",
     "output_type": "stream",
     "text": [
      "<>:2: SyntaxWarning: invalid escape sequence '\\d'\n",
      "<>:2: SyntaxWarning: invalid escape sequence '\\d'\n",
      "C:\\Users\\ayush\\AppData\\Local\\Temp\\ipykernel_21568\\1002746592.py:2: SyntaxWarning: invalid escape sequence '\\d'\n",
      "  os.chdir(\"e:\\data\\courses\\krish naik\\MLOPS\\DS prj\")\n"
     ]
    },
    {
     "data": {
      "text/plain": [
       "'e:\\\\data\\\\courses\\\\krish naik\\\\MLOPS\\\\DS prj'"
      ]
     },
     "execution_count": 4,
     "metadata": {},
     "output_type": "execute_result"
    }
   ],
   "source": [
    "import os\n",
    "os.chdir(\"e:\\data\\courses\\krish naik\\MLOPS\\DS prj\")\n",
    "\n",
    "%pwd\n"
   ]
  },
  {
   "cell_type": "code",
   "execution_count": 5,
   "id": "8281c186",
   "metadata": {},
   "outputs": [],
   "source": [
    "from dataclasses import dataclass\n",
    "from pathlib import Path\n",
    "\n",
    "@dataclass(frozen=True)\n",
    "class DataTransformationConfig:\n",
    "    root_dir: Path\n",
    "    data_path: Path"
   ]
  },
  {
   "cell_type": "code",
   "execution_count": 6,
   "id": "8a4ee7b7",
   "metadata": {},
   "outputs": [],
   "source": [
    "from src.DataScienceProject.constants import *\n",
    "from src.DataScienceProject.utils.common import read_yaml, create_directories"
   ]
  },
  {
   "cell_type": "code",
   "execution_count": 7,
   "id": "3bdf49dc",
   "metadata": {},
   "outputs": [],
   "source": [
    "class ConfigurationManager:\n",
    "    def __init__(self,\n",
    "                  config_file_path=CONFIG_FILE_PATH,\n",
    "                    params_file_path=PARAMS_FILE_PATH,\n",
    "                    schema_file_path=SCHEMA_FILE_PATH):\n",
    "        self.config = read_yaml(config_file_path)\n",
    "        self.params = read_yaml(params_file_path)\n",
    "        self.schema = read_yaml(schema_file_path)\n",
    "        \n",
    "        create_directories([self.config.artifacts_root])\n",
    "        \n",
    "    def get_data_transformation_config(self) -> DataTransformationConfig:\n",
    "        config = self.config.data_transformation\n",
    "        \n",
    "        create_directories([config.root_dir])\n",
    "        \n",
    "        data_transformation_config = DataTransformationConfig(\n",
    "            root_dir=config.root_dir,\n",
    "            data_path=config.data_path,\n",
    "        )\n",
    "        \n",
    "        return data_transformation_config\n"
   ]
  },
  {
   "cell_type": "code",
   "execution_count": 8,
   "id": "cfa357c3",
   "metadata": {},
   "outputs": [],
   "source": [
    "import os \n",
    "from src.DataScienceProject import logger\n",
    "from sklearn.model_selection import train_test_split\n",
    "import pandas as pd\n",
    "\n",
    "class DataTransformation:\n",
    "    def __init__(self, config: DataTransformationConfig):\n",
    "        self.config = config\n",
    "        \n",
    "    def train_test_spliting(self):\n",
    "        data = pd.read_csv(self.config.data_path)\n",
    "        train, test = train_test_split(data)\n",
    "        \n",
    "        train.to_csv(os.path.join(self.config.root_dir, \"train.csv\"), index=False)\n",
    "        test.to_csv(os.path.join(self.config.root_dir, \"test.csv\"), index=False)\n",
    "        \n",
    "        logger.info(\"Splitted data into training and test sets\")\n",
    "        logger.info(train.shape)\n",
    "        logger.info(test.shape)\n",
    "        logger.info(\"Saved train and test files into artifacts folder\")\n",
    "\n",
    "        "
   ]
  },
  {
   "cell_type": "code",
   "execution_count": 9,
   "id": "67c12c38",
   "metadata": {},
   "outputs": [
    {
     "name": "stdout",
     "output_type": "stream",
     "text": [
      "[2025-08-01 13:12:29,308: INFO: common: yaml file: config\\config.yaml loaded successfully]\n",
      "[2025-08-01 13:12:29,310: INFO: common: yaml file: params.yaml loaded successfully]\n",
      "[2025-08-01 13:12:29,313: INFO: common: yaml file: schema.yaml loaded successfully]\n",
      "[2025-08-01 13:12:29,314: INFO: common: created directory at: artifacts]\n",
      "[2025-08-01 13:12:29,316: INFO: common: created directory at: artifacts/data_transformation]\n",
      "[2025-08-01 13:12:29,365: INFO: 2269071012: Splitted data into training and test sets]\n",
      "[2025-08-01 13:12:29,369: INFO: 2269071012: (1199, 12)]\n",
      "[2025-08-01 13:12:29,373: INFO: 2269071012: (400, 12)]\n",
      "[2025-08-01 13:12:29,374: INFO: 2269071012: Saved train and test files into artifacts folder]\n"
     ]
    }
   ],
   "source": [
    "try:\n",
    "    config = ConfigurationManager()\n",
    "    data_transformation_config = config.get_data_transformation_config()\n",
    "    data_transformation = DataTransformation(config=data_transformation_config)\n",
    "    data_transformation.train_test_spliting()\n",
    "except Exception as e:\n",
    "    raise e"
   ]
  },
  {
   "cell_type": "code",
   "execution_count": null,
   "id": "4b39721e",
   "metadata": {},
   "outputs": [],
   "source": []
  }
 ],
 "metadata": {
  "kernelspec": {
   "display_name": "venv",
   "language": "python",
   "name": "python3"
  },
  "language_info": {
   "codemirror_mode": {
    "name": "ipython",
    "version": 3
   },
   "file_extension": ".py",
   "mimetype": "text/x-python",
   "name": "python",
   "nbconvert_exporter": "python",
   "pygments_lexer": "ipython3",
   "version": "3.12.0"
  }
 },
 "nbformat": 4,
 "nbformat_minor": 5
}
